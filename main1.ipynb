{
 "cells": [
  {
   "cell_type": "code",
   "execution_count": 3,
   "metadata": {},
   "outputs": [
    {
     "name": "stdout",
     "output_type": "stream",
     "text": [
      "Collecting scikit-learn\n",
      "  Using cached scikit_learn-1.0.2-cp37-cp37m-win_amd64.whl (7.1 MB)\n",
      "Requirement already satisfied: threadpoolctl>=2.0.0 in c:\\users\\necha\\anaconda3\\lib\\site-packages (from scikit-learn) (3.1.0)\n",
      "Requirement already satisfied: scipy>=1.1.0 in c:\\users\\necha\\anaconda3\\lib\\site-packages (from scikit-learn) (1.4.1)\n",
      "Requirement already satisfied: numpy>=1.14.6 in c:\\users\\necha\\anaconda3\\lib\\site-packages (from scikit-learn) (1.21.5)\n",
      "Requirement already satisfied: joblib>=0.11 in c:\\users\\necha\\anaconda3\\lib\\site-packages (from scikit-learn) (1.2.0)\n",
      "Installing collected packages: scikit-learn\n",
      "Successfully installed scikit-learn-1.0.2\n"
     ]
    }
   ],
   "source": [
    "!pip install scikit-learn"
   ]
  },
  {
   "cell_type": "code",
   "execution_count": 4,
   "metadata": {},
   "outputs": [
    {
     "name": "stdout",
     "output_type": "stream",
     "text": [
      "Requirement already satisfied: fer in c:\\users\\necha\\anaconda3\\lib\\site-packages (22.5.1)\n",
      "Requirement already satisfied: moviepy in c:\\users\\necha\\anaconda3\\lib\\site-packages (from fer) (1.0.3)\n",
      "Requirement already satisfied: requests in c:\\users\\necha\\anaconda3\\lib\\site-packages (from fer) (2.22.0)\n",
      "Requirement already satisfied: Pillow in c:\\users\\necha\\anaconda3\\lib\\site-packages (from fer) (8.4.0)\n",
      "Requirement already satisfied: ffmpeg==1.4 in c:\\users\\necha\\anaconda3\\lib\\site-packages (from fer) (1.4)\n",
      "Requirement already satisfied: keras>=2.0.0 in c:\\users\\necha\\anaconda3\\lib\\site-packages (from fer) (2.8.0)\n",
      "Requirement already satisfied: pandas in c:\\users\\necha\\anaconda3\\lib\\site-packages (from fer) (1.3.5)\n",
      "Requirement already satisfied: facenet-pytorch in c:\\users\\necha\\anaconda3\\lib\\site-packages (from fer) (2.5.3)\n",
      "Requirement already satisfied: tqdm>=4.62.1 in c:\\users\\necha\\anaconda3\\lib\\site-packages (from fer) (4.63.0)\n",
      "Requirement already satisfied: opencv-contrib-python in c:\\users\\necha\\anaconda3\\lib\\site-packages (from fer) (4.8.1.78)\n",
      "Requirement already satisfied: matplotlib in c:\\users\\necha\\anaconda3\\lib\\site-packages (from fer) (3.5.1)\n",
      "Requirement already satisfied: decorator<5.0,>=4.0.2 in c:\\users\\necha\\anaconda3\\lib\\site-packages (from moviepy->fer) (4.4.1)\n",
      "Requirement already satisfied: numpy; python_version >= \"2.7\" in c:\\users\\necha\\anaconda3\\lib\\site-packages (from moviepy->fer) (1.21.5)\n",
      "Requirement already satisfied: imageio<3.0,>=2.5; python_version >= \"3.4\" in c:\\users\\necha\\anaconda3\\lib\\site-packages (from moviepy->fer) (2.6.1)\n",
      "Requirement already satisfied: imageio-ffmpeg>=0.2.0; python_version >= \"3.4\" in c:\\users\\necha\\anaconda3\\lib\\site-packages (from moviepy->fer) (0.4.9)\n",
      "Requirement already satisfied: proglog<=1.0.0 in c:\\users\\necha\\anaconda3\\lib\\site-packages (from moviepy->fer) (0.1.10)\n",
      "Requirement already satisfied: certifi>=2017.4.17 in c:\\users\\necha\\anaconda3\\lib\\site-packages (from requests->fer) (2019.11.28)\n",
      "Requirement already satisfied: urllib3!=1.25.0,!=1.25.1,<1.26,>=1.21.1 in c:\\users\\necha\\anaconda3\\lib\\site-packages (from requests->fer) (1.25.8)\n",
      "Requirement already satisfied: idna<2.9,>=2.5 in c:\\users\\necha\\anaconda3\\lib\\site-packages (from requests->fer) (2.8)\n",
      "Requirement already satisfied: chardet<3.1.0,>=3.0.2 in c:\\users\\necha\\anaconda3\\lib\\site-packages (from requests->fer) (3.0.4)\n",
      "Requirement already satisfied: pytz>=2017.3 in c:\\users\\necha\\anaconda3\\lib\\site-packages (from pandas->fer) (2019.3)\n",
      "Requirement already satisfied: python-dateutil>=2.7.3 in c:\\users\\necha\\anaconda3\\lib\\site-packages (from pandas->fer) (2.8.2)\n",
      "Requirement already satisfied: torchvision in c:\\users\\necha\\anaconda3\\lib\\site-packages (from facenet-pytorch->fer) (0.14.1)\n",
      "Requirement already satisfied: colorama; platform_system == \"Windows\" in c:\\users\\necha\\anaconda3\\lib\\site-packages (from tqdm>=4.62.1->fer) (0.4.6)\n",
      "Requirement already satisfied: pyparsing>=2.2.1 in c:\\users\\necha\\anaconda3\\lib\\site-packages (from matplotlib->fer) (2.4.6)\n",
      "Requirement already satisfied: kiwisolver>=1.0.1 in c:\\users\\necha\\anaconda3\\lib\\site-packages (from matplotlib->fer) (1.1.0)\n",
      "Requirement already satisfied: packaging>=20.0 in c:\\users\\necha\\anaconda3\\lib\\site-packages (from matplotlib->fer) (21.3)\n",
      "Requirement already satisfied: fonttools>=4.22.0 in c:\\users\\necha\\anaconda3\\lib\\site-packages (from matplotlib->fer) (4.38.0)\n",
      "Requirement already satisfied: cycler>=0.10 in c:\\users\\necha\\anaconda3\\lib\\site-packages (from matplotlib->fer) (0.10.0)\n",
      "Requirement already satisfied: setuptools in c:\\users\\necha\\anaconda3\\lib\\site-packages (from imageio-ffmpeg>=0.2.0; python_version >= \"3.4\"->moviepy->fer) (59.5.0)\n",
      "Requirement already satisfied: six>=1.5 in c:\\users\\necha\\anaconda3\\lib\\site-packages (from python-dateutil>=2.7.3->pandas->fer) (1.14.0)\n",
      "Requirement already satisfied: typing-extensions in c:\\users\\necha\\anaconda3\\lib\\site-packages (from torchvision->facenet-pytorch->fer) (4.1.1)\n",
      "Requirement already satisfied: torch==1.13.1 in c:\\users\\necha\\anaconda3\\lib\\site-packages (from torchvision->facenet-pytorch->fer) (1.13.1)\n"
     ]
    }
   ],
   "source": [
    "!pip install fer"
   ]
  },
  {
   "cell_type": "code",
   "execution_count": null,
   "metadata": {},
   "outputs": [],
   "source": []
  }
 ],
 "metadata": {
  "kernelspec": {
   "display_name": "Python 3 (ipykernel)",
   "language": "python",
   "name": "python3"
  },
  "language_info": {
   "codemirror_mode": {
    "name": "ipython",
    "version": 3
   },
   "file_extension": ".py",
   "mimetype": "text/x-python",
   "name": "python",
   "nbconvert_exporter": "python",
   "pygments_lexer": "ipython3",
   "version": "3.7.6"
  }
 },
 "nbformat": 4,
 "nbformat_minor": 4
}
